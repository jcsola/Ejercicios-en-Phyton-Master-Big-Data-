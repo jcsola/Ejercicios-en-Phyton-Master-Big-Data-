{
 "cells": [
  {
   "cell_type": "markdown",
   "metadata": {},
   "source": [
    "# Basic statistics"
   ]
  },
  {
   "cell_type": "code",
   "execution_count": 1,
   "metadata": {
    "collapsed": true
   },
   "outputs": [],
   "source": [
    "import numpy"
   ]
  },
  {
   "cell_type": "code",
   "execution_count": 2,
   "metadata": {
    "collapsed": false
   },
   "outputs": [],
   "source": [
    "x = numpy.random.randn( 1000 ) * 5 + 10 #Hemos generado 1000 valores aleatorios\n",
    "# x # uncomment this line for showing the contents of 'x'."
   ]
  },
  {
   "cell_type": "code",
   "execution_count": 3,
   "metadata": {
    "collapsed": false
   },
   "outputs": [
    {
     "data": {
      "text/plain": [
       "10247.113452799094"
      ]
     },
     "execution_count": 3,
     "metadata": {},
     "output_type": "execute_result"
    }
   ],
   "source": [
    "x.sum()"
   ]
  },
  {
   "cell_type": "code",
   "execution_count": 4,
   "metadata": {
    "collapsed": false
   },
   "outputs": [
    {
     "data": {
      "text/plain": [
       "10.247113452799095"
      ]
     },
     "execution_count": 4,
     "metadata": {},
     "output_type": "execute_result"
    }
   ],
   "source": [
    "x.mean() #media"
   ]
  },
  {
   "cell_type": "code",
   "execution_count": 5,
   "metadata": {
    "collapsed": false
   },
   "outputs": [
    {
     "data": {
      "text/plain": [
       "4.9588333103022419"
      ]
     },
     "execution_count": 5,
     "metadata": {},
     "output_type": "execute_result"
    }
   ],
   "source": [
    "x.std() #desviacion tipica"
   ]
  },
  {
   "cell_type": "code",
   "execution_count": 7,
   "metadata": {
    "collapsed": false
   },
   "outputs": [
    {
     "data": {
      "text/plain": [
       "24.590027799363089"
      ]
     },
     "execution_count": 7,
     "metadata": {},
     "output_type": "execute_result"
    }
   ],
   "source": [
    "x.var() #varianza"
   ]
  },
  {
   "cell_type": "code",
   "execution_count": 9,
   "metadata": {
    "collapsed": false
   },
   "outputs": [
    {
     "data": {
      "text/plain": [
       "array(24.614642441804893)"
      ]
     },
     "execution_count": 9,
     "metadata": {},
     "output_type": "execute_result"
    }
   ],
   "source": [
    "numpy.cov(x) #devuelve tambien la varianza"
   ]
  },
  {
   "cell_type": "code",
   "execution_count": 11,
   "metadata": {
    "collapsed": false
   },
   "outputs": [],
   "source": [
    "y = numpy.random.randn( 1000 ) * 3 - 7 # desviacion 3, media 7\n",
    "# y # uncomment this line for showing the contents of 'y'."
   ]
  },
  {
   "cell_type": "code",
   "execution_count": 14,
   "metadata": {
    "collapsed": false
   },
   "outputs": [
    {
     "data": {
      "text/plain": [
       "array([[ 16.38558049,  22.52413627,  13.22551409, ...,   1.9098074 ,\n",
       "          4.14139678,  19.61373097],\n",
       "       [-10.198995  , -10.89514651,  -4.84837011, ..., -10.52643918,\n",
       "        -11.62787592,  -7.32551684]])"
      ]
     },
     "execution_count": 14,
     "metadata": {},
     "output_type": "execute_result"
    }
   ],
   "source": [
    "xy = numpy.vstack( [ x, y ] ) #Apilado vertical de x e y\n",
    "xy"
   ]
  },
  {
   "cell_type": "code",
   "execution_count": 15,
   "metadata": {
    "collapsed": false
   },
   "outputs": [
    {
     "data": {
      "text/plain": [
       "array([[ 24.61464244,  -0.82985652],\n",
       "       [ -0.82985652,   8.19999257]])"
      ]
     },
     "execution_count": 15,
     "metadata": {},
     "output_type": "execute_result"
    }
   ],
   "source": [
    "numpy.cov(xy)"
   ]
  },
  {
   "cell_type": "code",
   "execution_count": 18,
   "metadata": {
    "collapsed": false
   },
   "outputs": [],
   "source": [
    "xy = numpy.random.multivariate_normal( [7,5], [[36,-9],[-9,49]], 10000 )\n",
    "#Vector de medias, matriz de variantes y covarianzas, y genera 10,000 elementos (muestras)"
   ]
  },
  {
   "cell_type": "code",
   "execution_count": 19,
   "metadata": {
    "collapsed": false
   },
   "outputs": [
    {
     "data": {
      "text/plain": [
       "array([ 69988.17535531,  49612.26337165])"
      ]
     },
     "execution_count": 19,
     "metadata": {},
     "output_type": "execute_result"
    }
   ],
   "source": [
    "xy.sum(axis=0) #Suma de elementos de la primera dimensión por separado"
   ]
  },
  {
   "cell_type": "code",
   "execution_count": 20,
   "metadata": {
    "collapsed": false
   },
   "outputs": [
    {
     "data": {
      "text/plain": [
       "array([ 6.99881754,  4.96122634])"
      ]
     },
     "execution_count": 20,
     "metadata": {},
     "output_type": "execute_result"
    }
   ],
   "source": [
    "xy.mean(axis=0)"
   ]
  },
  {
   "cell_type": "code",
   "execution_count": 21,
   "metadata": {
    "collapsed": false
   },
   "outputs": [
    {
     "data": {
      "text/plain": [
       "array([ 5.97927812,  7.03682787])"
      ]
     },
     "execution_count": 21,
     "metadata": {},
     "output_type": "execute_result"
    }
   ],
   "source": [
    "xy.std(axis=0)"
   ]
  },
  {
   "cell_type": "code",
   "execution_count": 22,
   "metadata": {
    "collapsed": false
   },
   "outputs": [
    {
     "data": {
      "text/plain": [
       "array([ 35.75176678,  49.51694643])"
      ]
     },
     "execution_count": 22,
     "metadata": {},
     "output_type": "execute_result"
    }
   ],
   "source": [
    "xy.var(axis=0)"
   ]
  },
  {
   "cell_type": "code",
   "execution_count": 23,
   "metadata": {
    "collapsed": false
   },
   "outputs": [
    {
     "data": {
      "text/plain": [
       "array([[ 35.75534232,  -9.46626322],\n",
       "       [ -9.46626322,  49.52189862]])"
      ]
     },
     "execution_count": 23,
     "metadata": {},
     "output_type": "execute_result"
    }
   ],
   "source": [
    "numpy.cov(xy.transpose())"
   ]
  },
  {
   "cell_type": "code",
   "execution_count": 24,
   "metadata": {
    "collapsed": false
   },
   "outputs": [
    {
     "data": {
      "text/plain": [
       "array([ 71.19646228,  10.94764812,  59.37293972, ...,  84.16910064,\n",
       "         3.98210011,  85.30247753])"
      ]
     },
     "execution_count": 24,
     "metadata": {},
     "output_type": "execute_result"
    }
   ],
   "source": [
    "# Create an array of random values in [0,100[\n",
    "x = numpy.random.rand( 10000 ) * 100\n",
    "x"
   ]
  },
  {
   "cell_type": "code",
   "execution_count": 25,
   "metadata": {
    "collapsed": false
   },
   "outputs": [
    {
     "name": "stdout",
     "output_type": "stream",
     "text": [
      "[71 10 59 ..., 84  3 85]\n"
     ]
    }
   ],
   "source": [
    "# Remove decimals and convert to integer\n",
    "x = numpy.floor(x).astype( 'i' )\n",
    "# Show the final array of ints\n",
    "print( x )"
   ]
  },
  {
   "cell_type": "code",
   "execution_count": 27,
   "metadata": {
    "collapsed": false
   },
   "outputs": [
    {
     "name": "stdout",
     "output_type": "stream",
     "text": [
      "[ 96 100  81 102  98 115  96  88  94  94  99 109  86  98 117 100 104  96\n",
      "  93  99 109 108 102  93 101 111 109  91 101 116  85  92  85  94 106  99\n",
      "  92 101 103  99  91 111  97 114 111  94  93  86  99 102 118  98 125 101\n",
      " 108 105  76 112  92  94  97 102 102  83 104 109  89 107 105  74 102 105\n",
      " 114  97 130  90  84  89 101  85 101 100  92 120  95 102  91 101  94  92\n",
      " 109  94 117 111 108 105  84 108 112 106]\n"
     ]
    }
   ],
   "source": [
    "# Compute the counters\n",
    "bc = numpy.bincount( x ) # 'bincount' Permite contabilizar los números enteros que aparecen en el array original\n",
    "# Show the counters\n",
    "print( bc )"
   ]
  },
  {
   "cell_type": "markdown",
   "metadata": {},
   "source": [
    "## Histograms"
   ]
  },
  {
   "cell_type": "code",
   "execution_count": 28,
   "metadata": {
    "collapsed": false
   },
   "outputs": [
    {
     "name": "stdout",
     "output_type": "stream",
     "text": [
      "[514 479 504 477 487 476 529 484 480 553 540 470 506 523 517 463 505 491\n",
      " 499 503]\n"
     ]
    }
   ],
   "source": [
    "x = numpy.random.rand( 10000 ) * 100\n",
    "hist,bin_edges = numpy.histogram( x, bins=20, density=False )\n",
    "print( hist )"
   ]
  },
  {
   "cell_type": "code",
   "execution_count": 29,
   "metadata": {
    "collapsed": false
   },
   "outputs": [
    {
     "name": "stdout",
     "output_type": "stream",
     "text": [
      "[ 0.01028169  0.00958157  0.01008165  0.00954156  0.0097416   0.00952156\n",
      "  0.01058174  0.00968159  0.00960157  0.01106181  0.01080177  0.00940154\n",
      "  0.01012166  0.01046172  0.0103417   0.00926152  0.01010166  0.00982161\n",
      "  0.00998164  0.01006165]\n",
      "[  9.47963486e-03   5.00865981e+00   1.00078400e+01   1.50070202e+01\n",
      "   2.00062004e+01   2.50053805e+01   3.00045607e+01   3.50037409e+01\n",
      "   4.00029211e+01   4.50021012e+01   5.00012814e+01   5.50004616e+01\n",
      "   5.99996418e+01   6.49988220e+01   6.99980021e+01   7.49971823e+01\n",
      "   7.99963625e+01   8.49955427e+01   8.99947229e+01   9.49939030e+01\n",
      "   9.99930832e+01]\n"
     ]
    }
   ],
   "source": [
    "hist,bin_edges = numpy.histogram( x, bins=20, density=True )\n",
    "print( hist )\n",
    "print( bin_edges ) # The same in both cases"
   ]
  },
  {
   "cell_type": "code",
   "execution_count": null,
   "metadata": {
    "collapsed": true
   },
   "outputs": [],
   "source": []
  }
 ],
 "metadata": {
  "anaconda-cloud": {},
  "kernelspec": {
   "display_name": "Python [Root]",
   "language": "python",
   "name": "Python [Root]"
  },
  "language_info": {
   "codemirror_mode": {
    "name": "ipython",
    "version": 3
   },
   "file_extension": ".py",
   "mimetype": "text/x-python",
   "name": "python",
   "nbconvert_exporter": "python",
   "pygments_lexer": "ipython3",
   "version": "3.5.2"
  }
 },
 "nbformat": 4,
 "nbformat_minor": 1
}
