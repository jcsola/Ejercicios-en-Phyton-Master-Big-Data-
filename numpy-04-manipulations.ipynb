{
 "cells": [
  {
   "cell_type": "markdown",
   "metadata": {},
   "source": [
    "# Manipulations"
   ]
  },
  {
   "cell_type": "code",
   "execution_count": 1,
   "metadata": {
    "collapsed": true
   },
   "outputs": [],
   "source": [
    "import numpy"
   ]
  },
  {
   "cell_type": "code",
   "execution_count": 2,
   "metadata": {
    "collapsed": false
   },
   "outputs": [
    {
     "data": {
      "text/plain": [
       "array([[ 0.19483525,  0.47082173,  0.13143536,  0.7583133 ,  0.49623273],\n",
       "       [ 0.50513573,  0.36984402,  0.5947981 ,  0.90581279,  0.59389067],\n",
       "       [ 0.2870575 ,  0.13690004,  0.47175694,  0.50819508,  0.79544633],\n",
       "       [ 0.68765865,  0.36026089,  0.83076511,  0.11338402,  0.49463561],\n",
       "       [ 0.12603637,  0.32560085,  0.48177952,  0.77671341,  0.94196754]])"
      ]
     },
     "execution_count": 2,
     "metadata": {},
     "output_type": "execute_result"
    }
   ],
   "source": [
    "x = numpy.random.rand( 5, 5 )\n",
    "x"
   ]
  },
  {
   "cell_type": "markdown",
   "metadata": {},
   "source": [
    "### Getting the diagonal of a matrix."
   ]
  },
  {
   "cell_type": "code",
   "execution_count": 6,
   "metadata": {
    "collapsed": false
   },
   "outputs": [
    {
     "data": {
      "text/plain": [
       "array([ 0.19483525,  0.36984402,  0.47175694,  0.11338402,  0.94196754])"
      ]
     },
     "execution_count": 6,
     "metadata": {},
     "output_type": "execute_result"
    }
   ],
   "source": [
    "numpy.diag( x ) # 'diag' Recoge los valores de la diagonal y te los muestra en un array"
   ]
  },
  {
   "cell_type": "markdown",
   "metadata": {},
   "source": [
    "### Or converting a vector in to a matrix with the original values of the vector in the diagonal."
   ]
  },
  {
   "cell_type": "code",
   "execution_count": 7,
   "metadata": {
    "collapsed": false
   },
   "outputs": [
    {
     "data": {
      "text/plain": [
       "array([[ 0.19483525,  0.        ,  0.        ,  0.        ,  0.        ],\n",
       "       [ 0.        ,  0.36984402,  0.        ,  0.        ,  0.        ],\n",
       "       [ 0.        ,  0.        ,  0.47175694,  0.        ,  0.        ],\n",
       "       [ 0.        ,  0.        ,  0.        ,  0.11338402,  0.        ],\n",
       "       [ 0.        ,  0.        ,  0.        ,  0.        ,  0.94196754]])"
      ]
     },
     "execution_count": 7,
     "metadata": {},
     "output_type": "execute_result"
    }
   ],
   "source": [
    "numpy.diag( numpy.diag( x ) ) #Te devuelve una matriz solo con la diagonal"
   ]
  },
  {
   "cell_type": "markdown",
   "metadata": {},
   "source": [
    "### Concatenation of arrays in two ways: horizontally or vertically.\n",
    "\n",
    "###### (Operaciones con mucho coste computacional)"
   ]
  },
  {
   "cell_type": "code",
   "execution_count": 12,
   "metadata": {
    "collapsed": false
   },
   "outputs": [
    {
     "data": {
      "text/plain": [
       "array([ 0.19483525,  0.36984402,  0.47175694,  0.11338402,  0.94196754,\n",
       "        0.19483525,  0.36984402,  0.47175694,  0.11338402,  0.94196754])"
      ]
     },
     "execution_count": 12,
     "metadata": {},
     "output_type": "execute_result"
    }
   ],
   "source": [
    "numpy.hstack( [ numpy.diag( x ), numpy.diag( x ) ] ) # 'hstack' Apilado horizontal. El resultado en un Array Unidimensional"
   ]
  },
  {
   "cell_type": "code",
   "execution_count": 13,
   "metadata": {
    "collapsed": false
   },
   "outputs": [
    {
     "data": {
      "text/plain": [
       "array([[ 0.19483525,  0.36984402,  0.47175694,  0.11338402,  0.94196754],\n",
       "       [ 0.19483525,  0.        ,  0.        ,  0.        ,  0.        ],\n",
       "       [ 0.        ,  0.36984402,  0.        ,  0.        ,  0.        ],\n",
       "       [ 0.        ,  0.        ,  0.47175694,  0.        ,  0.        ],\n",
       "       [ 0.        ,  0.        ,  0.        ,  0.11338402,  0.        ],\n",
       "       [ 0.        ,  0.        ,  0.        ,  0.        ,  0.94196754]])"
      ]
     },
     "execution_count": 13,
     "metadata": {},
     "output_type": "execute_result"
    }
   ],
   "source": [
    "numpy.vstack( [ numpy.diag( x ), numpy.diag( numpy.diag( x ) ) ] ) # 'vstack' Apilado vertical. \n",
    "# 'numpy.diag( x )' => Array unidimensional de 5 elementos\n",
    "# 'numpy.diag( numpy.diag( x ) ) ' => Matriz de 5 x 5\n",
    "# Al apilarlos verticalmente, devuelve una matriz con una fila más.\n",
    "# Debe ser compatible dimensionalmente"
   ]
  },
  {
   "cell_type": "markdown",
   "metadata": {},
   "source": [
    "### Useful functions already implemented."
   ]
  },
  {
   "cell_type": "code",
   "execution_count": 14,
   "metadata": {
    "collapsed": false
   },
   "outputs": [
    {
     "data": {
      "text/plain": [
       "array([ 100.,   99.,   98.,   97.,   96.,   95.,   94.,   93.,   92.,\n",
       "         91.,   90.,   89.,   88.,   87.,   86.,   85.,   84.,   83.,\n",
       "         82.,   81.,   80.,   79.,   78.,   77.,   76.,   75.,   74.,\n",
       "         73.,   72.,   71.,   70.,   69.,   68.,   67.,   66.,   65.,\n",
       "         64.,   63.,   62.,   61.,   60.,   59.,   58.,   57.,   56.,\n",
       "         55.,   54.,   53.,   52.,   51.,   50.,   49.,   48.,   47.,\n",
       "         46.,   45.,   44.,   43.,   42.,   41.,   40.,   39.,   38.,\n",
       "         37.,   36.,   35.,   34.,   33.,   32.,   31.,   30.,   29.,\n",
       "         28.,   27.,   26.,   25.,   24.,   23.,   22.,   21.,   20.,\n",
       "         19.,   18.,   17.,   16.,   15.,   14.,   13.,   12.,   11.,\n",
       "         10.,    9.,    8.,    7.,    6.,    5.,    4.,    3.,    2.,    1.])"
      ]
     },
     "execution_count": 14,
     "metadata": {},
     "output_type": "execute_result"
    }
   ],
   "source": [
    "x = numpy.linspace( 100, 1, 100 )\n",
    "x"
   ]
  },
  {
   "cell_type": "code",
   "execution_count": 15,
   "metadata": {
    "collapsed": false
   },
   "outputs": [
    {
     "data": {
      "text/plain": [
       "1.0"
      ]
     },
     "execution_count": 15,
     "metadata": {},
     "output_type": "execute_result"
    }
   ],
   "source": [
    "x.min() #Muestra el minimo"
   ]
  },
  {
   "cell_type": "code",
   "execution_count": 17,
   "metadata": {
    "collapsed": false
   },
   "outputs": [
    {
     "data": {
      "text/plain": [
       "100.0"
      ]
     },
     "execution_count": 17,
     "metadata": {},
     "output_type": "execute_result"
    }
   ],
   "source": [
    "x.max() #Muestra el maximo"
   ]
  },
  {
   "cell_type": "code",
   "execution_count": 20,
   "metadata": {
    "collapsed": false
   },
   "outputs": [
    {
     "data": {
      "text/plain": [
       "99"
      ]
     },
     "execution_count": 20,
     "metadata": {},
     "output_type": "execute_result"
    }
   ],
   "source": [
    "x.argmin() #Muestra la posicion del minimo valor"
   ]
  },
  {
   "cell_type": "code",
   "execution_count": 21,
   "metadata": {
    "collapsed": false
   },
   "outputs": [
    {
     "data": {
      "text/plain": [
       "0"
      ]
     },
     "execution_count": 21,
     "metadata": {},
     "output_type": "execute_result"
    }
   ],
   "source": [
    "x.argmax() #Muestra la posicion del máximo valor"
   ]
  },
  {
   "cell_type": "code",
   "execution_count": 25,
   "metadata": {
    "collapsed": false
   },
   "outputs": [
    {
     "data": {
      "text/plain": [
       "99.0"
      ]
     },
     "execution_count": 25,
     "metadata": {},
     "output_type": "execute_result"
    }
   ],
   "source": [
    "x.ptp() # (Point to Point) Diferencia entre el valor mínimo y el valor máximo"
   ]
  },
  {
   "cell_type": "markdown",
   "metadata": {},
   "source": [
    "\n",
    "### Sorting in place."
   ]
  },
  {
   "cell_type": "code",
   "execution_count": 26,
   "metadata": {
    "collapsed": false
   },
   "outputs": [
    {
     "data": {
      "text/plain": [
       "array([   1.,    2.,    3.,    4.,    5.,    6.,    7.,    8.,    9.,\n",
       "         10.,   11.,   12.,   13.,   14.,   15.,   16.,   17.,   18.,\n",
       "         19.,   20.,   21.,   22.,   23.,   24.,   25.,   26.,   27.,\n",
       "         28.,   29.,   30.,   31.,   32.,   33.,   34.,   35.,   36.,\n",
       "         37.,   38.,   39.,   40.,   41.,   42.,   43.,   44.,   45.,\n",
       "         46.,   47.,   48.,   49.,   50.,   51.,   52.,   53.,   54.,\n",
       "         55.,   56.,   57.,   58.,   59.,   60.,   61.,   62.,   63.,\n",
       "         64.,   65.,   66.,   67.,   68.,   69.,   70.,   71.,   72.,\n",
       "         73.,   74.,   75.,   76.,   77.,   78.,   79.,   80.,   81.,\n",
       "         82.,   83.,   84.,   85.,   86.,   87.,   88.,   89.,   90.,\n",
       "         91.,   92.,   93.,   94.,   95.,   96.,   97.,   98.,   99.,  100.])"
      ]
     },
     "execution_count": 26,
     "metadata": {},
     "output_type": "execute_result"
    }
   ],
   "source": [
    "x.sort() #Ordena el propio vector, el original, de mínimo a máximo\n",
    "x"
   ]
  },
  {
   "cell_type": "code",
   "execution_count": null,
   "metadata": {
    "collapsed": true
   },
   "outputs": [],
   "source": []
  }
 ],
 "metadata": {
  "anaconda-cloud": {},
  "kernelspec": {
   "display_name": "Python [Root]",
   "language": "python",
   "name": "Python [Root]"
  },
  "language_info": {
   "codemirror_mode": {
    "name": "ipython",
    "version": 3
   },
   "file_extension": ".py",
   "mimetype": "text/x-python",
   "name": "python",
   "nbconvert_exporter": "python",
   "pygments_lexer": "ipython3",
   "version": "3.5.2"
  }
 },
 "nbformat": 4,
 "nbformat_minor": 1
}
