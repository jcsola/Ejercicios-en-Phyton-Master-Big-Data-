{
 "cells": [
  {
   "cell_type": "markdown",
   "metadata": {},
   "source": [
    "# Element-wise operations"
   ]
  },
  {
   "cell_type": "code",
   "execution_count": 1,
   "metadata": {
    "collapsed": true
   },
   "outputs": [],
   "source": [
    "import numpy"
   ]
  },
  {
   "cell_type": "code",
   "execution_count": 2,
   "metadata": {
    "collapsed": false
   },
   "outputs": [
    {
     "data": {
      "text/plain": [
       "array([[ 1.,  1.,  1.,  1.],\n",
       "       [ 1.,  1.,  1.,  1.],\n",
       "       [ 1.,  1.,  1.,  1.],\n",
       "       [ 1.,  1.,  1.,  1.]])"
      ]
     },
     "execution_count": 2,
     "metadata": {},
     "output_type": "execute_result"
    }
   ],
   "source": [
    "a = numpy.ones( [4,4] )\n",
    "a"
   ]
  },
  {
   "cell_type": "code",
   "execution_count": 3,
   "metadata": {
    "collapsed": false
   },
   "outputs": [
    {
     "data": {
      "text/plain": [
       "array([[ 1.,  1.,  1.,  1.],\n",
       "       [ 1.,  1.,  1.,  1.],\n",
       "       [ 1.,  1.,  1.,  1.],\n",
       "       [ 1.,  1.,  1.,  1.]])"
      ]
     },
     "execution_count": 3,
     "metadata": {},
     "output_type": "execute_result"
    }
   ],
   "source": [
    "b = numpy.ones( [4,4] )\n",
    "b"
   ]
  },
  {
   "cell_type": "markdown",
   "metadata": {},
   "source": [
    "#### The following instructions computes the element-wise product. Not the dot product."
   ]
  },
  {
   "cell_type": "code",
   "execution_count": 7,
   "metadata": {
    "collapsed": false
   },
   "outputs": [
    {
     "data": {
      "text/plain": [
       "array([[ 1.,  1.,  1.,  1.],\n",
       "       [ 1.,  1.,  1.,  1.],\n",
       "       [ 1.,  1.,  1.,  1.],\n",
       "       [ 1.,  1.,  1.,  1.]])"
      ]
     },
     "execution_count": 7,
     "metadata": {},
     "output_type": "execute_result"
    }
   ],
   "source": [
    "a*b #Ha hecho la multiplicacion de las matrices, elemento a elemento"
   ]
  },
  {
   "cell_type": "markdown",
   "metadata": {},
   "source": [
    "#### If we need the dot product we have to use the proper function."
   ]
  },
  {
   "cell_type": "code",
   "execution_count": 8,
   "metadata": {
    "collapsed": false
   },
   "outputs": [
    {
     "data": {
      "text/plain": [
       "array([[ 4.,  4.,  4.,  4.],\n",
       "       [ 4.,  4.,  4.,  4.],\n",
       "       [ 4.,  4.,  4.,  4.],\n",
       "       [ 4.,  4.,  4.,  4.]])"
      ]
     },
     "execution_count": 8,
     "metadata": {},
     "output_type": "execute_result"
    }
   ],
   "source": [
    "numpy.dot( a, b ) #Si son de dimensiones compatibles, 'dot' hará el producto escalar"
   ]
  },
  {
   "cell_type": "code",
   "execution_count": 9,
   "metadata": {
    "collapsed": false
   },
   "outputs": [
    {
     "data": {
      "text/plain": [
       "array([[ 4.,  4.,  4.,  4.],\n",
       "       [ 4.,  4.,  4.,  4.],\n",
       "       [ 4.,  4.,  4.,  4.],\n",
       "       [ 4.,  4.,  4.,  4.]])"
      ]
     },
     "execution_count": 9,
     "metadata": {},
     "output_type": "execute_result"
    }
   ],
   "source": [
    "a.dot(b)"
   ]
  },
  {
   "cell_type": "markdown",
   "metadata": {},
   "source": [
    "### Creating n-dimensional arrays of random numbers.\n",
    "\n",
    "#### In the range [0,1["
   ]
  },
  {
   "cell_type": "code",
   "execution_count": 12,
   "metadata": {
    "collapsed": false
   },
   "outputs": [
    {
     "data": {
      "text/plain": [
       "array([[ 0.08724773,  0.82668697,  0.46723169,  0.88800923,  0.41370249],\n",
       "       [ 0.80513294,  0.95774741,  0.34893667,  0.701983  ,  0.93865438],\n",
       "       [ 0.13575829,  0.00399638,  0.55639636,  0.97024772,  0.92514423],\n",
       "       [ 0.69854645,  0.22063588,  0.77293128,  0.74136683,  0.01210454],\n",
       "       [ 0.52431339,  0.51680234,  0.66644917,  0.60957963,  0.96760638]])"
      ]
     },
     "execution_count": 12,
     "metadata": {},
     "output_type": "execute_result"
    }
   ],
   "source": [
    "x = numpy.random.rand( 5, 5 ) #Matriz de 5x5\n",
    "x"
   ]
  },
  {
   "cell_type": "code",
   "execution_count": 13,
   "metadata": {
    "collapsed": false
   },
   "outputs": [
    {
     "data": {
      "text/plain": [
       "array([[ 1.09116696,  2.28573348,  1.59557104,  2.4302867 ,  1.51240711],\n",
       "       [ 2.23699386,  2.60582001,  1.41755941,  2.01774994,  2.55653896],\n",
       "       [ 1.145405  ,  1.00400438,  1.74437506,  2.63859801,  2.52223201],\n",
       "       [ 2.01082775,  1.24686934,  2.16610642,  2.09880226,  1.0121781 ],\n",
       "       [ 1.68929855,  1.67665768,  1.94731047,  1.83965791,  2.63163778]])"
      ]
     },
     "execution_count": 13,
     "metadata": {},
     "output_type": "execute_result"
    }
   ],
   "source": [
    "numpy.exp( x )"
   ]
  },
  {
   "cell_type": "markdown",
   "metadata": {},
   "source": [
    "#### Or normally distributed values, with zero mean and variance one."
   ]
  },
  {
   "cell_type": "code",
   "execution_count": 16,
   "metadata": {
    "collapsed": false
   },
   "outputs": [
    {
     "data": {
      "text/plain": [
       "array([[ -1.45441500e+00,   1.12460379e+00,  -4.22038384e-01,\n",
       "         -3.13346980e-01,   1.16937073e-01],\n",
       "       [  6.12795066e-01,  -2.26880609e+00,   5.49096325e-01,\n",
       "          8.55878662e-01,  -1.64032825e+00],\n",
       "       [ -8.51027984e-01,   5.33929641e-01,  -2.80947314e-01,\n",
       "         -2.69785672e-01,  -8.21797391e-01],\n",
       "       [ -5.17702575e-01,   1.82783641e-01,  -5.34479421e-01,\n",
       "          1.45654634e-03,   2.08903624e-01],\n",
       "       [ -1.18491462e-01,  -2.36928080e-01,  -2.63283066e-01,\n",
       "          5.05221335e-01,   7.67540699e-01]])"
      ]
     },
     "execution_count": 16,
     "metadata": {},
     "output_type": "execute_result"
    }
   ],
   "source": [
    "x = numpy.random.randn( 5, 5 )\n",
    "x"
   ]
  },
  {
   "cell_type": "code",
   "execution_count": 17,
   "metadata": {
    "collapsed": false
   },
   "outputs": [
    {
     "data": {
      "text/plain": [
       "array([[ 0.23353694,  3.07899667,  0.65570887,  0.73099623,  1.12404869],\n",
       "       [ 1.84558272,  0.1034356 ,  1.73168743,  2.35344135,  0.19391638],\n",
       "       [ 0.42697578,  1.70562164,  0.75506812,  0.76354313,  0.43964074],\n",
       "       [ 0.59588798,  1.20055463,  0.58597426,  1.00145761,  1.23232623],\n",
       "       [ 0.8882594 ,  0.78904803,  0.76852432,  1.65735231,  2.15446126]])"
      ]
     },
     "execution_count": 17,
     "metadata": {},
     "output_type": "execute_result"
    }
   ],
   "source": [
    "numpy.exp( x )"
   ]
  },
  {
   "cell_type": "code",
   "execution_count": 18,
   "metadata": {
    "collapsed": false
   },
   "outputs": [
    {
     "data": {
      "text/plain": [
       "array([[ -1.45441500e+01,   1.12460379e+01,  -4.22038384e+00,\n",
       "         -3.13346980e+00,   1.16937073e+00],\n",
       "       [  6.12795066e+00,  -2.26880609e+01,   5.49096325e+00,\n",
       "          8.55878662e+00,  -1.64032825e+01],\n",
       "       [ -8.51027984e+00,   5.33929641e+00,  -2.80947314e+00,\n",
       "         -2.69785672e+00,  -8.21797391e+00],\n",
       "       [ -5.17702575e+00,   1.82783641e+00,  -5.34479421e+00,\n",
       "          1.45654634e-02,   2.08903624e+00],\n",
       "       [ -1.18491462e+00,  -2.36928080e+00,  -2.63283066e+00,\n",
       "          5.05221335e+00,   7.67540699e+00]])"
      ]
     },
     "execution_count": 18,
     "metadata": {},
     "output_type": "execute_result"
    }
   ],
   "source": [
    "x = x * 10\n",
    "x"
   ]
  },
  {
   "cell_type": "code",
   "execution_count": 19,
   "metadata": {
    "collapsed": false
   },
   "outputs": [
    {
     "data": {
      "text/plain": [
       "array([[  4.82565094e-07,   7.65759145e+04,   1.46930037e-02,\n",
       "          4.35663682e-02,   3.21996578e+00],\n",
       "       [  4.58495585e+02,   1.40184616e-10,   2.42490675e+02,\n",
       "          5.21235276e+03,   7.51873791e-08],\n",
       "       [  2.01387461e-04,   2.08366054e+02,   6.02367203e-02,\n",
       "          6.73497072e-02,   2.69761071e-04],\n",
       "       [  5.64477044e-03,   6.22041369e+00,   4.77293334e-03,\n",
       "          1.01467206e+00,   8.07712698e+00],\n",
       "       [  3.05772285e-01,   9.35479820e-02,   7.18747208e-02,\n",
       "          1.56368179e+02,   2.15470045e+03]])"
      ]
     },
     "execution_count": 19,
     "metadata": {},
     "output_type": "execute_result"
    }
   ],
   "source": [
    "numpy.exp( x )"
   ]
  },
  {
   "cell_type": "code",
   "execution_count": 20,
   "metadata": {
    "collapsed": false
   },
   "outputs": [
    {
     "data": {
      "text/plain": [
       "array([[ 0.08045453,  0.32845961,  0.09013708,  0.47825055, -1.405315  ],\n",
       "       [-3.47788178, -0.61898843,  1.64270148,  0.98096229,  2.10950216]])"
      ]
     },
     "execution_count": 20,
     "metadata": {},
     "output_type": "execute_result"
    }
   ],
   "source": [
    "x = numpy.random.randn( 2, 5 )\n",
    "x"
   ]
  },
  {
   "cell_type": "code",
   "execution_count": 21,
   "metadata": {
    "collapsed": false
   },
   "outputs": [
    {
     "data": {
      "text/plain": [
       "dtype('float64')"
      ]
     },
     "execution_count": 21,
     "metadata": {},
     "output_type": "execute_result"
    }
   ],
   "source": [
    "x.dtype"
   ]
  },
  {
   "cell_type": "code",
   "execution_count": 22,
   "metadata": {
    "collapsed": false
   },
   "outputs": [
    {
     "data": {
      "text/plain": [
       "array([[ 0.08045453,  0.32845962,  0.09013708,  0.47825053, -1.40531504],\n",
       "       [-3.47788167, -0.61898845,  1.64270151,  0.98096228,  2.10950208]], dtype=float32)"
      ]
     },
     "execution_count": 22,
     "metadata": {},
     "output_type": "execute_result"
    }
   ],
   "source": [
    "y = x.astype( 'f' )\n",
    "y"
   ]
  },
  {
   "cell_type": "code",
   "execution_count": 23,
   "metadata": {
    "collapsed": false
   },
   "outputs": [
    {
     "data": {
      "text/plain": [
       "dtype('float32')"
      ]
     },
     "execution_count": 23,
     "metadata": {},
     "output_type": "execute_result"
    }
   ],
   "source": [
    "y.dtype"
   ]
  },
  {
   "cell_type": "code",
   "execution_count": 24,
   "metadata": {
    "collapsed": false
   },
   "outputs": [
    {
     "data": {
      "text/plain": [
       "array([[ 0.08045453, -3.47788178],\n",
       "       [ 0.32845961, -0.61898843],\n",
       "       [ 0.09013708,  1.64270148],\n",
       "       [ 0.47825055,  0.98096229],\n",
       "       [-1.405315  ,  2.10950216]])"
      ]
     },
     "execution_count": 24,
     "metadata": {},
     "output_type": "execute_result"
    }
   ],
   "source": [
    "x.transpose() #Matriz traspuesta"
   ]
  },
  {
   "cell_type": "code",
   "execution_count": null,
   "metadata": {
    "collapsed": true
   },
   "outputs": [],
   "source": []
  }
 ],
 "metadata": {
  "anaconda-cloud": {},
  "kernelspec": {
   "display_name": "Python [Root]",
   "language": "python",
   "name": "Python [Root]"
  },
  "language_info": {
   "codemirror_mode": {
    "name": "ipython",
    "version": 3
   },
   "file_extension": ".py",
   "mimetype": "text/x-python",
   "name": "python",
   "nbconvert_exporter": "python",
   "pygments_lexer": "ipython3",
   "version": "3.5.2"
  }
 },
 "nbformat": 4,
 "nbformat_minor": 1
}
