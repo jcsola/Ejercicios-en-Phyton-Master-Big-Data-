{
 "cells": [
  {
   "cell_type": "markdown",
   "metadata": {},
   "source": [
    "## Ejercicios de Python\n",
    "\n",
    "1.Define una función max() que toma como argumentos dos números y devuelve el mayor de ellos. "
   ]
  },
  {
   "cell_type": "code",
   "execution_count": 4,
   "metadata": {
    "collapsed": false
   },
   "outputs": [
    {
     "data": {
      "text/plain": [
       "4"
      ]
     },
     "execution_count": 4,
     "metadata": {},
     "output_type": "execute_result"
    }
   ],
   "source": [
    "def maximo (a,b):\n",
    "    if (a>b):\n",
    "        return a\n",
    "    else: \n",
    "        return b\n",
    "\n",
    "maximo (2,4)"
   ]
  },
  {
   "cell_type": "markdown",
   "metadata": {},
   "source": [
    "2.Escribe una función que toma un carácter (es decir, una cadena de longitud 1) y devuelve True si es una vocal, False en caso contrario\n"
   ]
  },
  {
   "cell_type": "code",
   "execution_count": 17,
   "metadata": {
    "collapsed": false
   },
   "outputs": [
    {
     "data": {
      "text/plain": [
       "True"
      ]
     },
     "execution_count": 17,
     "metadata": {},
     "output_type": "execute_result"
    }
   ],
   "source": [
    "def vocal (v):\n",
    "    if ((v==\"a\") or (v==\"e\") or (v==\"i\") or (v==\"o\") or (v==\"u\")):\n",
    "        return True\n",
    "        \n",
    "    else:\n",
    "        return False\n",
    "\n",
    "vocal (\"e\")\n",
    "    "
   ]
  },
  {
   "cell_type": "markdown",
   "metadata": {},
   "source": [
    "3.Definir una función sum ()  que suma todos los números de una lista de números. Por ejemplo, suma ([1, 2, 3, 4]) debería devolver 10."
   ]
  },
  {
   "cell_type": "code",
   "execution_count": 31,
   "metadata": {
    "collapsed": false
   },
   "outputs": [
    {
     "data": {
      "text/plain": [
       "'La suma del array es 10'"
      ]
     },
     "execution_count": 31,
     "metadata": {},
     "output_type": "execute_result"
    }
   ],
   "source": [
    "def sum ():\n",
    "    lista=[1,2,3,4]\n",
    "    suma=0\n",
    "    \n",
    "    for array in lista:\n",
    "        suma = suma + array\n",
    "    return suma   \n",
    "        \n",
    "\"La suma del array es %s\"%sum()"
   ]
  },
  {
   "cell_type": "markdown",
   "metadata": {},
   "source": [
    "4.Definir una función reverse () que retorna la inversión de una cadena. Por ejemplo, reverse (\"I am testing\") debería devolver la cadena \"gnitset ma I\"."
   ]
  },
  {
   "cell_type": "code",
   "execution_count": 1,
   "metadata": {
    "collapsed": false
   },
   "outputs": [
    {
     "name": "stdout",
     "output_type": "stream",
     "text": [
      "gnitset ma I\n"
     ]
    }
   ],
   "source": [
    "def reverse():\n",
    "    cadena1 = \"I am testing\"\n",
    "    cadena2 = \"\"\n",
    "    \n",
    "    valor = len(cadena1)\n",
    "    while valor > 0:\n",
    "        cadena2 = cadena2 + cadena1[valor-1]\n",
    "        valor = valor-1\n",
    "    print cadena2\n",
    "\n",
    "reverse()"
   ]
  },
  {
   "cell_type": "markdown",
   "metadata": {
    "collapsed": true
   },
   "source": [
    "5.Un pangrama es una frase que contiene todas las letras del alfabeto Inglés, al menos una vez, por ejemplo: \"The quick brown fox jumps over the lazy dog\".  Escribe una función para comprobar si una sentencia para ver si es un pangrama o no."
   ]
  },
  {
   "cell_type": "code",
   "execution_count": 3,
   "metadata": {
    "collapsed": false
   },
   "outputs": [
    {
     "data": {
      "text/plain": [
       "{'a': 3, 'b': 2, 'c': 1, 'd': 2}"
      ]
     },
     "execution_count": 3,
     "metadata": {},
     "output_type": "execute_result"
    }
   ],
   "source": [
    "def pangram(string):\n",
    "    "
   ]
  },
  {
   "cell_type": "markdown",
   "metadata": {},
   "source": [
    "6.Escribe una función char_freq() que toma una cadena y crea una lista de frecuencias de los carácteres que figuran en el mismo. Representa la frecuencia de carácteres con un diccionario Python. Prueba con algo como char_freq (\"abbabcbdbabdbdbabababcbcbab\").\n"
   ]
  },
  {
   "cell_type": "code",
   "execution_count": 5,
   "metadata": {
    "collapsed": false
   },
   "outputs": [
    {
     "data": {
      "text/plain": [
       "{'a': 7, 'b': 14, 'c': 3, 'd': 3}"
      ]
     },
     "execution_count": 5,
     "metadata": {},
     "output_type": "execute_result"
    }
   ],
   "source": [
    "def char_freq(string):\n",
    "    diccio={}\n",
    "    for letra in string:\n",
    "        if diccio.has_key(letra):\n",
    "            diccio[letra]=diccio[letra]+1\n",
    "        else:\n",
    "            diccio[letra]=1\n",
    "            \n",
    "    return diccio\n",
    "\n",
    "char_freq(\"abbabcbdbabdbdbabababcbcbab\")"
   ]
  },
  {
   "cell_type": "code",
   "execution_count": null,
   "metadata": {
    "collapsed": true
   },
   "outputs": [],
   "source": []
  }
 ],
 "metadata": {
  "kernelspec": {
   "display_name": "Python 2",
   "language": "python",
   "name": "python2"
  },
  "language_info": {
   "codemirror_mode": {
    "name": "ipython",
    "version": 2
   },
   "file_extension": ".py",
   "mimetype": "text/x-python",
   "name": "python",
   "nbconvert_exporter": "python",
   "pygments_lexer": "ipython2",
   "version": "2.7.6"
  }
 },
 "nbformat": 4,
 "nbformat_minor": 0
}
